{
 "cells": [
  {
   "cell_type": "code",
   "execution_count": null,
   "metadata": {
    "colab": {},
    "colab_type": "code",
    "id": "eG85v8FhHYqV"
   },
   "outputs": [],
   "source": [
    "import matplotlib.pyplot as plt\n",
    "import numpy as np\n",
    "import SimpleITK as sitk\n",
    "import os as os\n",
    "import nrrd as reader"
   ]
  },
  {
   "cell_type": "code",
   "execution_count": null,
   "metadata": {
    "colab": {},
    "colab_type": "code",
    "id": "Yy2MaZEdHYqd"
   },
   "outputs": [],
   "source": [
    "def check_path(path):\n",
    "    count=0\n",
    "    for files in os.listdir(path):\n",
    "        image_path = os.path.join(path,files)\n",
    "        count+=1\n",
    "    return count - 1"
   ]
  },
  {
   "cell_type": "code",
   "execution_count": null,
   "metadata": {
    "colab": {},
    "colab_type": "code",
    "id": "mQGyLGn0HYqk"
   },
   "outputs": [],
   "source": [
    "# (patient count* 15) check_path function will return total patient count \n",
    "folder_path = os.getcwd() + \"/Incoming Annotations\"\n",
    "\n",
    "length = check_path(folder_path)\n",
    "inputs = np.zeros((length*15,256,512, 1))\n",
    "outputs = np.zeros((length*15,256,512 , 9))"
   ]
  },
  {
   "cell_type": "code",
   "execution_count": null,
   "metadata": {
    "colab": {},
    "colab_type": "code",
    "id": "RWFniWqdHYqz"
   },
   "outputs": [],
   "source": [
    "def dcm_to_np(path):\n",
    "    global dic_count\n",
    "    try:\n",
    "        slice_filenames = sitk.ImageSeriesReader_GetGDCMSeriesFileNames(path)\n",
    "        image = sitk.ReadImage(slice_filenames)\n",
    "        for x in range(15):\n",
    "            current_slice = image[:, :, x]\n",
    "            current_array = sitk.GetArrayFromImage(current_slice)\n",
    "            inputs[dic_count]=current_array[:,:,np.newaxis]\n",
    "            dic_count+=1\n",
    "        print(dic_count)\n",
    "    except Exception as e:\n",
    "        print(\"Problem with this folder -> \" + path)"
   ]
  },
  {
   "cell_type": "code",
   "execution_count": null,
   "metadata": {
    "colab": {},
    "colab_type": "code",
    "id": "dNTMbc46HYqt"
   },
   "outputs": [],
   "source": [
    "def nrrd_to_np(path):\n",
    "    global ann_count\n",
    "    try:\n",
    "#         seg = sitk.GetArrayFromImage(meta_object)\n",
    "        data, header = reader.read(path)\n",
    "        data = data.transpose((1, 0, 2))\n",
    "        for p in range(15):\n",
    "            current_seg = data[p, :, :]\n",
    "            new_seg = np.zeros([256,512,9])\n",
    "            for y, a in enumerate(current_seg):\n",
    "                for x, b in enumerate(a):\n",
    "                    if b>0:\n",
    "                        new_seg[y][x][b-1] = 1\n",
    "            outputs[ann_count]=new_seg\n",
    "            ann_count+=1\n",
    "        print(ann_count)\n",
    "    except Exception as e:\n",
    "        print(e)"
   ]
  },
  {
   "cell_type": "code",
   "execution_count": null,
   "metadata": {},
   "outputs": [],
   "source": [
    "def join(one, two):\n",
    "    return os.path.join(one, two)"
   ]
  },
  {
   "cell_type": "code",
   "execution_count": null,
   "metadata": {
    "colab": {},
    "colab_type": "code",
    "id": "bTzZ0175HYrD"
   },
   "outputs": [],
   "source": [
    "dic_count = 0\n",
    "ann_count = 0\n",
    "\n",
    "try:\n",
    "    for patient in sorted(os.listdir(folder_path)):\n",
    "            patient_path = join(folder_path, patient)\n",
    "            nrrd_folder = join(patient_path, \"NRRD\")\n",
    "            dcm_to_np(patient_path)\n",
    "            for nrrd in os.listdir(nrrd_folder):\n",
    "                if(\".nrrd\" in nrrd):\n",
    "                    nrrd_to_np(join(nrrd_folder, nrrd))\n",
    "            break\n",
    "    #                 segmentation = sitk.ReadImage(join(nrrd_folder, nrrd))\n",
    "    #                 nrrd_to_np(segmentation)\n",
    "except Exception as e:\n",
    "    print(e)"
   ]
  },
  {
   "cell_type": "code",
   "execution_count": null,
   "metadata": {},
   "outputs": [],
   "source": [
    "plt.imshow(inputs[0, :, :, 0])\n",
    "plt.show()\n",
    "plt.imshow(outputs[0, :, :, 6])\n",
    "plt.show()"
   ]
  },
  {
   "cell_type": "code",
   "execution_count": null,
   "metadata": {
    "colab": {},
    "colab_type": "code",
    "id": "R6UydYpxHYq_"
   },
   "outputs": [],
   "source": [
    "# a = np.hstack(outputs[0].flatten())\n",
    "# plt.hist(a, bins=2)\n",
    "# plt.show()\n",
    "unique, counts = np.unique(inputs[0], return_counts=True)\n",
    "print(np.amax(inputs[0]))\n",
    "plt.scatter(unique, counts)\n",
    "plt.show()"
   ]
  },
  {
   "cell_type": "code",
   "execution_count": null,
   "metadata": {
    "colab": {},
    "colab_type": "code",
    "id": "LpPcuUKdHYq3"
   },
   "outputs": [],
   "source": [
    "import sklearn.preprocessing as sk\n",
    "scaler = sk.MinMaxScaler(feature_range=(0, 255))\n",
    "inputs = scaler.fit_transform(inputs.flatten().reshape(-1, 1))"
   ]
  },
  {
   "cell_type": "code",
   "execution_count": null,
   "metadata": {
    "colab": {},
    "colab_type": "code",
    "id": "N1uxjVR0HYrJ"
   },
   "outputs": [],
   "source": [
    "for i in range(1740):\n",
    "    plt.imshow(inputs[i].reshape(256, 512), cmap=plt.cm.bone)\n",
    "    plt.imshow(outputs[i][:, :, 8], alpha=0.5)\n",
    "    plt.show()"
   ]
  },
  {
   "cell_type": "code",
   "execution_count": null,
   "metadata": {
    "colab": {},
    "colab_type": "code",
    "id": "wc-JskBdHYrP"
   },
   "outputs": [],
   "source": [
    "from tensorflow.keras.models import *\n",
    "from tensorflow.keras.layers import *\n",
    "\n",
    "def unet_model(im_height, im_width, im_chan):\n",
    "\n",
    "    input_img = Input((im_height, im_width, im_chan,), name='img')\n",
    "\n",
    "    inp = BatchNormalization()(input_img)\n",
    "\n",
    "    c1 = Conv2D(4, (3, 3), activation='relu', padding='same') (inp)\n",
    "    a1 = MaxPooling2D((2, 2))(c1)\n",
    "    c1 = Dropout(0.2)(c1)\n",
    "    c1 = Conv2D(4, (3, 3), activation='relu', padding='same') (c1)\n",
    "    p1 = MaxPooling2D((2, 2)) (c1)\n",
    "\n",
    "    cat1 = concatenate([p1, a1])\n",
    "\n",
    "    c2 = Conv2D(8, (3, 3), activation='relu', padding='same') (cat1)\n",
    "    a2 = MaxPooling2D((2, 2))(c2)\n",
    "    c2 = Dropout(0.2)(c2)\n",
    "    c2 = Conv2D(8, (3, 3), activation='relu', padding='same') (c2)\n",
    "    p2 = MaxPooling2D((2, 2)) (c2)\n",
    "\n",
    "    cat2 = concatenate([p2, a2])\n",
    "\n",
    "    c3 = Conv2D(16, (3, 3), activation='relu', padding='same') (cat2)\n",
    "    a3 = MaxPooling2D((2, 2))(c3)\n",
    "    c3 = Dropout(0.2)(c3)\n",
    "    c3 = Conv2D(16, (3, 3), activation='relu', padding='same') (c3)\n",
    "    p3 = MaxPooling2D((2, 2)) (c3)\n",
    "\n",
    "    cat3 = concatenate([p3, a3])\n",
    "\n",
    "    c4 = Conv2D(32, (3, 3), activation='relu', padding='same') (cat3)\n",
    "    a4 = MaxPooling2D((2, 2))(c4)\n",
    "    c4 = Dropout(0.2)(c4)\n",
    "    c4 = Conv2D(32, (3, 3), activation='relu', padding='same') (c4)\n",
    "    p4 = MaxPooling2D((2, 2)) (c4)\n",
    "\n",
    "    cat4 = concatenate([p4, a4])\n",
    "\n",
    "    c5 = Conv2D(64, (3, 3), activation='relu', padding='same') (cat4)\n",
    "    a5 = MaxPooling2D((2, 2))(c5)\n",
    "    c5 = Dropout(0.2)(c5)\n",
    "    c5 = Conv2D(64, (3, 3), activation='relu', padding='same') (c5)\n",
    "    p5 = MaxPooling2D((2, 2)) (c5)\n",
    "\n",
    "    cat5 = concatenate([p5, a5])\n",
    "\n",
    "    c6 = Conv2D(128, (3, 3), activation='relu', padding='same') (cat5)\n",
    "    c6 = Dropout(0.2)(c6)\n",
    "    c6 = Conv2D(128, (3, 3), activation='relu', padding='same') (c6)\n",
    "\n",
    "    u7 = Conv2DTranspose(64, (2, 2), strides=(2, 2), padding='same') (c6)\n",
    "    u7 = concatenate([u7, c5])\n",
    "    c7 = Conv2D(64, (3, 3), activation='relu', padding='same') (u7)\n",
    "    c7 = Dropout(0.2)(c7)\n",
    "    c7 = Conv2D(64, (3, 3), activation='relu', padding='same') (c7)\n",
    "\n",
    "    u8 = Conv2DTranspose(32, (2, 2), strides=(2, 2), padding='same') (c7)\n",
    "    u8 = concatenate([u8, c4])\n",
    "    c8 = Conv2D(32, (3, 3), activation='relu', padding='same') (u8)\n",
    "    c8 = Dropout(0.2)(c8)\n",
    "    c8 = Conv2D(32, (3, 3), activation='relu', padding='same') (c8)\n",
    "\n",
    "    u9 = Conv2DTranspose(16, (2, 2), strides=(2, 2), padding='same') (c8)\n",
    "    u9 = concatenate([u9, c3])\n",
    "    c9 = Conv2D(16, (3, 3), activation='relu', padding='same') (u9)\n",
    "    c9 = Dropout(0.2)(c9)\n",
    "    c9 = Conv2D(16, (3, 3), activation='relu', padding='same') (c9)\n",
    "\n",
    "    u10 = Conv2DTranspose(8, (2, 2), strides=(2, 2), padding='same') (c9)\n",
    "    u10 = concatenate([u10, c2])\n",
    "    c10 = Conv2D(8, (3, 3), activation='relu', padding='same') (u10)\n",
    "    c10 = Dropout(0.2)(c10)\n",
    "    c10 = Conv2D(8, (3, 3), activation='relu', padding='same') (c10)\n",
    "\n",
    "    u11 = Conv2DTranspose(4, (2, 2), strides=(2, 2), padding='same') (c10)\n",
    "    u11 = concatenate([u11, c1], axis = 3)\n",
    "    c11 = Conv2D(4, (3, 3), activation='relu', padding='same') (u11)\n",
    "    c11 = Dropout(0.2)(c11)\n",
    "    c11 = Conv2D(4, (3, 3), activation='relu', padding='same') (c11)\n",
    "\n",
    "    outputs = Conv2D(9, (1, 1), activation='sigmoid') (c11)\n",
    "\n",
    "    model = Model(inputs=[input_img], outputs=[outputs])\n",
    "\n",
    "    return model\n",
    "model = unet_model(256, 512, 1)\n",
    "model.summary()"
   ]
  },
  {
   "cell_type": "code",
   "execution_count": null,
   "metadata": {
    "colab": {},
    "colab_type": "code",
    "id": "Kf86gZKiHYrS"
   },
   "outputs": [],
   "source": [
    "from sklearn.cross_validation import train_test_split\n",
    "\n",
    "model.compile(optimizer='adam', loss=\"categorical_crossentropy\", metrics=[\"binary_crossentropy\"])\n",
    "results = model.fit(x=inputs, y=outputs, epochs=60, batch_size=32)"
   ]
  },
  {
   "cell_type": "code",
   "execution_count": null,
   "metadata": {
    "colab": {},
    "colab_type": "code",
    "id": "KuJksH29HYrV"
   },
   "outputs": [],
   "source": [
    "plt.title(\"Metrics\")\n",
    "plt.plot(results.history[\"loss\"], label=\"loss\")\n",
    "plt.xlabel(\"Epochs\")\n",
    "plt.legend()"
   ]
  },
  {
   "cell_type": "code",
   "execution_count": null,
   "metadata": {
    "colab": {},
    "colab_type": "code",
    "id": "3jOf7tH_HYra"
   },
   "outputs": [],
   "source": [
    "result = model.predict(inputs[100].reshape(1, 256, 512, 1))\n",
    "plt.imshow(inputs[100].reshape(256, 512), cmap=plt.cm.bone)\n",
    "plt.show()\n",
    "plt.imshow(result[0][:, :, 3])\n",
    "plt.show()"
   ]
  }
 ],
 "metadata": {
  "colab": {
   "collapsed_sections": [],
   "name": "doesn't_work_but_thats_jasons_fault.ipynb",
   "provenance": []
  },
  "kernelspec": {
   "display_name": "Python 3",
   "language": "python",
   "name": "python3"
  },
  "language_info": {
   "codemirror_mode": {
    "name": "ipython",
    "version": 3
   },
   "file_extension": ".py",
   "mimetype": "text/x-python",
   "name": "python",
   "nbconvert_exporter": "python",
   "pygments_lexer": "ipython3",
   "version": "3.5.2"
  }
 },
 "nbformat": 4,
 "nbformat_minor": 2
}
